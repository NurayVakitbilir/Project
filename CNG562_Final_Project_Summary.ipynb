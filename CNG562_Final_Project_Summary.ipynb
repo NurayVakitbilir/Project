{
  "nbformat": 4,
  "nbformat_minor": 0,
  "metadata": {
    "colab": {
      "name": "CNG562_Final_Project_Summary.ipynb",
      "version": "0.3.2",
      "provenance": [],
      "collapsed_sections": [],
      "include_colab_link": true
    },
    "language_info": {
      "codemirror_mode": {
        "name": "ipython",
        "version": 3
      },
      "file_extension": ".py",
      "mimetype": "text/x-python",
      "name": "python",
      "nbconvert_exporter": "python",
      "pygments_lexer": "ipython3",
      "version": "3.6.8"
    },
    "kernelspec": {
      "display_name": "Python 3",
      "language": "python",
      "name": "python3"
    }
  },
  "cells": [
    {
      "cell_type": "markdown",
      "metadata": {
        "id": "view-in-github",
        "colab_type": "text"
      },
      "source": [
        "<a href=\"https://colab.research.google.com/github/NurayVakitbilir/Project/blob/master/CNG562_Final_Project_Summary.ipynb\" target=\"_parent\"><img src=\"https://colab.research.google.com/assets/colab-badge.svg\" alt=\"Open In Colab\"/></a>"
      ]
    },
    {
      "cell_type": "markdown",
      "metadata": {
        "id": "mwJxYrNxRnOw",
        "colab_type": "text"
      },
      "source": [
        "# CNG 562 Final Project Summary\n",
        "\n",
        "\n",
        "## Participants (Ordered by Surname)\n",
        "\n",
        "1. Adnan, Hilal, 2342111\n",
        "2. Nuray, Vakitbilir, 2344372\n"
      ]
    },
    {
      "cell_type": "markdown",
      "metadata": {
        "id": "Gwcac7zrRnOx",
        "colab_type": "text"
      },
      "source": [
        "## Problem Description\n",
        "\n",
        "Predicting daily solar radiation of\n",
        " \n",
        "\n",
        "1.   the same day in which the various climatological variables are avaliable, which could be used in renewable energy system design such as photovoltaic panels, \n",
        "2.   the coming day using previous 7 continuous days' data, which could be used in operation of existing photovoltaic power plant.\n",
        "\n"
      ]
    },
    {
      "cell_type": "markdown",
      "metadata": {
        "id": "yvjLi3mjRnOz",
        "colab_type": "text"
      },
      "source": [
        "## Data Description\n",
        "\n",
        "Data has been obtained from NASA for Kalkanli, Cyprus.\n",
        "It includes year, month, day, temperature, minimum temperature, maximum temperature, relative humidity, pressure, precipitation, wind speed and wind direction as input features. For the first part of the project, we have 3 targets which are clear sky radiation, all sky radiation and radiation whereas for the second part, we only took radiation as target."
      ]
    },
    {
      "cell_type": "markdown",
      "metadata": {
        "id": "kvxUrZoLRnO0",
        "colab_type": "text"
      },
      "source": [
        "## Solution Description\n",
        "\n",
        "In first part of the project, we have used conventional machine learning algorithms including ;\n",
        "*   Linear regression\n",
        "*   KNN - regression\n",
        "*   Decision tree regression\n",
        "*   Random forest regression\n",
        "*   Gradient boosting\n",
        "*   SVM - regression,\n",
        "and deep learning methods including\n",
        "*   MLP - regression\n",
        "*   1D_CNN - regression\n",
        "*   LSTM - regression\n",
        "*   1D_CNN+LSTM - regression\n",
        "*   RNN - regression.\n",
        "\n",
        "In the second part of the project, we have used;\n",
        "*   1D_CNN - regression\n",
        "*   LSTM - regression\n",
        "*   1D_CNN+LSTM - regression\n",
        "*   RNN - regression.\n",
        "\n"
      ]
    },
    {
      "cell_type": "markdown",
      "metadata": {
        "id": "S62g6Yt6RnO1",
        "colab_type": "text"
      },
      "source": [
        "## Project Results\n",
        "\n",
        "**1st part:**\n",
        "We have achieved the best results as \n",
        "-Machine learning;\n",
        "Random forest gave the best results for each of the targets (Clear sky, all sky and radiation) score was for almost all of the models were higher or around 0.9.\n",
        "RF was followed by Gradient boost in terms of score in each of the model.\n",
        "Linear regression, KNN and SVM gave the lowest scores.\n",
        "-Deep learning;\n",
        "LSTM combined CNN gave the highest accuracy for each target especially for predicting Clear sky insolation radiation. CNN model by itself also gave good accuracies for all models.\n",
        "Worst model so far in DL has been found to be LSTM.\n",
        "\n",
        "**2nd part:**\n",
        "LSTM combines CNN gave the best result in terms of forecasting the radiation of 8th day after continuous 7 days.\n",
        "LSTM gave the worst results compared to other models.\n"
      ]
    }
  ]
}